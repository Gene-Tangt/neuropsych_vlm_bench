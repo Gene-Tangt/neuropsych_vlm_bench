{
 "cells": [
  {
   "cell_type": "code",
   "execution_count": 10,
   "id": "setup-imports",
   "metadata": {},
   "outputs": [
    {
     "name": "stdout",
     "output_type": "stream",
     "text": [
      "The autoreload extension is already loaded. To reload it, use:\n",
      "  %reload_ext autoreload\n"
     ]
    }
   ],
   "source": [
    "%load_ext autoreload\n",
    "%autoreload 2\n",
    "\n",
    "import json\n",
    "import os\n",
    "from evaluator import Evaluator\n",
    "from universal_runner import ModelConfig, OpenAIModelRunner\n",
    "from loaders import TaskLoader\n",
    "import pandas as pd"
   ]
  },
  {
   "cell_type": "markdown",
   "id": "0cb0ac83",
   "metadata": {},
   "source": [
    "## Load API keys and task paths"
   ]
  },
  {
   "cell_type": "code",
   "execution_count": 11,
   "id": "load-config",
   "metadata": {},
   "outputs": [
    {
     "name": "stdout",
     "output_type": "stream",
     "text": [
      "Found 31 tasks\n",
      "Sample tasks:\n",
      "  0: test_specs/low/borb_orientation_meta.json\n",
      "  1: test_specs/low/borb_line_length_comparison_meta.json\n",
      "  2: test_specs/low/borb_size_comparison_meta.json\n"
     ]
    }
   ],
   "source": [
    "# Get API keys\n",
    "with open(\"utils/api_keys.json\", \"r\") as f:\n",
    "    api_keys = json.load(f)\n",
    "\n",
    "# Load task paths\n",
    "with open(\"test_specs/test_list.json\", 'r') as file:\n",
    "    all_task_paths = []\n",
    "    for stage in json.load(file):\n",
    "        all_task_paths.extend(stage['task_paths'])\n",
    "\n",
    "print(f\"Found {len(all_task_paths)} tasks\")\n",
    "print(\"Sample tasks:\")\n",
    "for i, path in enumerate(all_task_paths[:3]):\n",
    "    print(f\"  {i}: {path}\")"
   ]
  },
  {
   "cell_type": "markdown",
   "id": "openai-demo",
   "metadata": {},
   "source": [
    "## Demo with OpenAI API"
   ]
  },
  {
   "cell_type": "markdown",
   "id": "d6224d73",
   "metadata": {},
   "source": [
    "### Running a single task ###"
   ]
  },
  {
   "cell_type": "code",
   "execution_count": 14,
   "id": "openai-single-task",
   "metadata": {},
   "outputs": [
    {
     "name": "stdout",
     "output_type": "stream",
     "text": [
      "Running task: test_specs/mid/mindset_decomposition_meta.json\n"
     ]
    },
    {
     "name": "stderr",
     "output_type": "stream",
     "text": [
      "Getting model responses: 100%|██████████| 30/30 [00:41<00:00,  1.38s/it]"
     ]
    },
    {
     "name": "stdout",
     "output_type": "stream",
     "text": [
      "Task: mindset_decomposition\n",
      "Stage: mid\n",
      "Process: property_biases\n",
      "Number of trials: 30\n"
     ]
    },
    {
     "name": "stderr",
     "output_type": "stream",
     "text": [
      "\n"
     ]
    }
   ],
   "source": [
    "# Configure OpenAI model\n",
    "openai_config = ModelConfig(\n",
    "    model_name=\"gpt-4o\",\n",
    "    api_key=api_keys[\"open_ai\"],\n",
    "    max_tokens=100,\n",
    "    temperature=1.0\n",
    ")\n",
    "\n",
    "# Create runner using factory function\n",
    "runner = OpenAIModelRunner(openai_config)\n",
    "\n",
    "# Run a single task\n",
    "task_index = 12 \n",
    "print(f\"Running task: {all_task_paths[task_index]}\")\n",
    "\n",
    "loader = TaskLoader(all_task_paths[task_index]) # Use TaskLoader to load the task\n",
    "results = runner.generate_response(loader) # return task info and results (payload + model responses)\n",
    "\n",
    "print(f\"Task: {results[0]['task']}\")\n",
    "print(f\"Stage: {results[0]['stage']}\") # stage of the task: low, mid, or high\n",
    "print(f\"Process: {results[0]['process']}\") # which finer-grained process the task belongs to\n",
    "print(f\"Number of trials: {len(results[1])}\") # number of trials in the task"
   ]
  },
  {
   "cell_type": "code",
   "execution_count": 16,
   "id": "evaluate-results",
   "metadata": {},
   "outputs": [
    {
     "data": {
      "text/html": [
       "<div>\n",
       "<style scoped>\n",
       "    .dataframe tbody tr th:only-of-type {\n",
       "        vertical-align: middle;\n",
       "    }\n",
       "\n",
       "    .dataframe tbody tr th {\n",
       "        vertical-align: top;\n",
       "    }\n",
       "\n",
       "    .dataframe thead th {\n",
       "        text-align: right;\n",
       "    }\n",
       "</style>\n",
       "<table border=\"1\" class=\"dataframe\">\n",
       "  <thead>\n",
       "    <tr style=\"text-align: right;\">\n",
       "      <th></th>\n",
       "      <th>task</th>\n",
       "      <th>task_type</th>\n",
       "      <th>stage</th>\n",
       "      <th>process</th>\n",
       "      <th>num_trials</th>\n",
       "      <th>raw_score</th>\n",
       "      <th>percent_score</th>\n",
       "    </tr>\n",
       "  </thead>\n",
       "  <tbody>\n",
       "    <tr>\n",
       "      <th>0</th>\n",
       "      <td>mindset_decomposition</td>\n",
       "      <td>match_to_sample</td>\n",
       "      <td>mid</td>\n",
       "      <td>property_biases</td>\n",
       "      <td>30</td>\n",
       "      <td>26</td>\n",
       "      <td>0.866667</td>\n",
       "    </tr>\n",
       "  </tbody>\n",
       "</table>\n",
       "</div>"
      ],
      "text/plain": [
       "                    task        task_type stage          process  num_trials  \\\n",
       "0  mindset_decomposition  match_to_sample   mid  property_biases          30   \n",
       "\n",
       "   raw_score  percent_score  \n",
       "0         26       0.866667  "
      ]
     },
     "execution_count": 16,
     "metadata": {},
     "output_type": "execute_result"
    }
   ],
   "source": [
    "# Evaluate results\n",
    "evaluator = Evaluator()\n",
    "evaluator.evaluate(results)\n",
    "\n",
    "# Display results\n",
    "results_df = evaluator.get_result() # get pandas dataframe\n",
    "results_df"
   ]
  },
  {
   "cell_type": "markdown",
   "id": "inspect-responses",
   "metadata": {},
   "source": [
    "## Inspect Payloads\n",
    "Each task payload contains `task_info` and `results`\n",
    "Task info is a dictionary containing the task information.\n",
    "Results is a list of dictionaries containing the trial information (e.g., prompt, conversation content, answer key, and model response for each trial)."
   ]
  },
  {
   "cell_type": "code",
   "execution_count": 37,
   "id": "show-responses",
   "metadata": {},
   "outputs": [
    {
     "name": "stdout",
     "output_type": "stream",
     "text": [
      "Sample Model Responses:\n",
      "==================================================\n",
      "\n",
      "Trial trial_000:\n",
      "Prompt: Here's a task. I will present you with three pictures. The first one is the target/reference image. ...\n",
      "Model Response: {2}\n",
      "Correct Answer: 1\n",
      "------------------------------\n",
      "\n",
      "Trial trial_001:\n",
      "Prompt: Here's a task. I will present you with three pictures. The first one is the target/reference image. ...\n",
      "Model Response: The second option most closely resembles the target/reference image. \n",
      "\n",
      "{2}\n",
      "Correct Answer: 2\n",
      "------------------------------\n",
      "\n",
      "Trial trial_002:\n",
      "Prompt: Here's a task. I will present you with three pictures. The first one is the target/reference image. ...\n",
      "Model Response: {2}\n",
      "Correct Answer: 1\n",
      "------------------------------\n"
     ]
    }
   ],
   "source": [
    "# Show first few responses\n",
    "print(\"Sample Model Responses:\")\n",
    "print(\"=\" * 50)\n",
    "\n",
    "# Look at the results\n",
    "for i, trial in enumerate(results[:3]):\n",
    "    print(f\"\\nTrial {trial['trial_id']}:\")\n",
    "    print(f\"Prompt: {trial['prompt'][:100]}...\") # Prompts are same for all the trials within a task.\n",
    "    print(f\"Model Response: {trial['model_response']}\") # Final model responses are those indicated within {}\n",
    "    print(f\"Correct Answer: {trial['answer_key']}\")\n",
    "    print(\"-\" * 30)"
   ]
  },
  {
   "cell_type": "markdown",
   "id": "batch-demo",
   "metadata": {},
   "source": [
    "## Batch Processing Demo\n",
    "Run multiple tasks"
   ]
  },
  {
   "cell_type": "code",
   "execution_count": 17,
   "id": "batch-processing",
   "metadata": {},
   "outputs": [
    {
     "name": "stdout",
     "output_type": "stream",
     "text": [
      "\n",
      "Processing task 1/3: test_specs/low/borb_orientation_meta.json\n"
     ]
    },
    {
     "name": "stderr",
     "output_type": "stream",
     "text": [
      "Getting model responses: 100%|██████████| 30/30 [00:24<00:00,  1.24it/s]\n"
     ]
    },
    {
     "name": "stdout",
     "output_type": "stream",
     "text": [
      "✓ Completed: mindset_decomposition\n",
      "\n",
      "Processing task 2/3: test_specs/low/borb_line_length_comparison_meta.json\n"
     ]
    },
    {
     "name": "stderr",
     "output_type": "stream",
     "text": [
      "Getting model responses: 100%|██████████| 30/30 [00:24<00:00,  1.22it/s]\n"
     ]
    },
    {
     "name": "stdout",
     "output_type": "stream",
     "text": [
      "✓ Completed: mindset_decomposition\n",
      "\n",
      "Processing task 3/3: test_specs/low/borb_size_comparison_meta.json\n"
     ]
    },
    {
     "name": "stderr",
     "output_type": "stream",
     "text": [
      "Getting model responses: 100%|██████████| 30/30 [00:27<00:00,  1.08it/s]"
     ]
    },
    {
     "name": "stdout",
     "output_type": "stream",
     "text": [
      "✓ Completed: mindset_decomposition\n"
     ]
    },
    {
     "name": "stderr",
     "output_type": "stream",
     "text": [
      "\n"
     ]
    }
   ],
   "source": [
    "# Run multiple tasks\n",
    "batch_evaluator = Evaluator()\n",
    "batch_results = []\n",
    "\n",
    "for i, task_path in enumerate(all_task_paths[:3]): \n",
    "    print(f\"\\nProcessing task {i+1}/3: {task_path}\")\n",
    "    \n",
    "    loader = TaskLoader(task_path)\n",
    "    runner = OpenAIModelRunner(openai_config)\n",
    "    results = runner.generate_response(loader)\n",
    "    batch_evaluator.evaluate(results)\n",
    "    print(f\"✓ Completed: {task_info['task']}\")"
   ]
  },
  {
   "cell_type": "code",
   "execution_count": null,
   "id": "batch-results",
   "metadata": {},
   "outputs": [
    {
     "data": {
      "text/html": [
       "<div>\n",
       "<style scoped>\n",
       "    .dataframe tbody tr th:only-of-type {\n",
       "        vertical-align: middle;\n",
       "    }\n",
       "\n",
       "    .dataframe tbody tr th {\n",
       "        vertical-align: top;\n",
       "    }\n",
       "\n",
       "    .dataframe thead th {\n",
       "        text-align: right;\n",
       "    }\n",
       "</style>\n",
       "<table border=\"1\" class=\"dataframe\">\n",
       "  <thead>\n",
       "    <tr style=\"text-align: right;\">\n",
       "      <th></th>\n",
       "      <th>task</th>\n",
       "      <th>task_type</th>\n",
       "      <th>stage</th>\n",
       "      <th>process</th>\n",
       "      <th>num_trials</th>\n",
       "      <th>raw_score</th>\n",
       "      <th>percent_score</th>\n",
       "    </tr>\n",
       "  </thead>\n",
       "  <tbody>\n",
       "    <tr>\n",
       "      <th>0</th>\n",
       "      <td>borb_orientation</td>\n",
       "      <td>yes_no</td>\n",
       "      <td>low</td>\n",
       "      <td>simple_element_judgements</td>\n",
       "      <td>30</td>\n",
       "      <td>21</td>\n",
       "      <td>0.700000</td>\n",
       "    </tr>\n",
       "    <tr>\n",
       "      <th>1</th>\n",
       "      <td>borb_line_length_comparison</td>\n",
       "      <td>same_different</td>\n",
       "      <td>low</td>\n",
       "      <td>simple_element_judgements</td>\n",
       "      <td>30</td>\n",
       "      <td>20</td>\n",
       "      <td>0.666667</td>\n",
       "    </tr>\n",
       "    <tr>\n",
       "      <th>2</th>\n",
       "      <td>borb_size_comparison</td>\n",
       "      <td>same_different</td>\n",
       "      <td>low</td>\n",
       "      <td>simple_element_judgements</td>\n",
       "      <td>30</td>\n",
       "      <td>17</td>\n",
       "      <td>0.566667</td>\n",
       "    </tr>\n",
       "  </tbody>\n",
       "</table>\n",
       "</div>"
      ],
      "text/plain": [
       "                          task       task_type stage  \\\n",
       "0             borb_orientation          yes_no   low   \n",
       "1  borb_line_length_comparison  same_different   low   \n",
       "2         borb_size_comparison  same_different   low   \n",
       "\n",
       "                     process  num_trials  raw_score  percent_score  \n",
       "0  simple_element_judgements          30         21       0.700000  \n",
       "1  simple_element_judgements          30         20       0.666667  \n",
       "2  simple_element_judgements          30         17       0.566667  "
      ]
     },
     "execution_count": 18,
     "metadata": {},
     "output_type": "execute_result"
    }
   ],
   "source": [
    "# Show batch results\n",
    "batch_evaluator.get_result() # get_results appends all the results evaluated after Evaluator initialization"
   ]
  }
 ],
 "metadata": {
  "kernelspec": {
   "display_name": "minibench",
   "language": "python",
   "name": "python3"
  },
  "language_info": {
   "codemirror_mode": {
    "name": "ipython",
    "version": 3
   },
   "file_extension": ".py",
   "mimetype": "text/x-python",
   "name": "python",
   "nbconvert_exporter": "python",
   "pygments_lexer": "ipython3",
   "version": "3.11.0"
  }
 },
 "nbformat": 4,
 "nbformat_minor": 5
}
