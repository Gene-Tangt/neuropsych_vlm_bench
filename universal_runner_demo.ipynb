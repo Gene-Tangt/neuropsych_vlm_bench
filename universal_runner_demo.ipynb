{
 "cells": [
  {
   "cell_type": "markdown",
   "id": "demo-intro",
   "metadata": {},
   "source": [
    "# Universal VLM Runner Demo\n",
    "\n",
    "This notebook demonstrates how to use the universal runner with different VLM providers for neuropsych benchmark tasks.\n",
    "\n",
    "## Features:\n",
    "- Support for multiple providers (OpenAI, Anthropic, Google, Hugging Face)\n",
    "- Unified interface across all providers\n",
    "- Easy configuration management\n",
    "- Batch comparisons between providers"
   ]
  },
  {
   "cell_type": "code",
   "execution_count": 1,
   "id": "setup-imports",
   "metadata": {},
   "outputs": [],
   "source": [
    "%load_ext autoreload\n",
    "%autoreload 2\n",
    "\n",
    "import json\n",
    "import os\n",
    "from evaluator import Evaluator\n",
    "from universal_runner import create_runner, ModelConfig, OpenAIModelRunner\n",
    "from loaders import TaskLoader\n",
    "import pandas as pd"
   ]
  },
  {
   "cell_type": "markdown",
   "id": "config-section",
   "metadata": {},
   "source": [
    "## Configuration Setup\n",
    "\n",
    "Load API keys and configure model parameters."
   ]
  },
  {
   "cell_type": "code",
   "execution_count": 2,
   "id": "load-config",
   "metadata": {},
   "outputs": [
    {
     "name": "stdout",
     "output_type": "stream",
     "text": [
      "Found 31 tasks\n",
      "Sample tasks:\n",
      "  0: test_specs/low/borb_orientation_meta.json\n",
      "  1: test_specs/low/borb_line_length_comparison_meta.json\n",
      "  2: test_specs/low/borb_size_comparison_meta.json\n"
     ]
    }
   ],
   "source": [
    "# Load API keys\n",
    "with open(\"utils/api_keys.json\", \"r\") as f:\n",
    "    api_keys = json.load(f)\n",
    "\n",
    "# Load task paths\n",
    "with open(\"test_specs/test_list.json\", 'r') as file:\n",
    "    all_task_paths = []\n",
    "    for stage in json.load(file):\n",
    "        all_task_paths.extend(stage['task_paths'])\n",
    "\n",
    "print(f\"Found {len(all_task_paths)} tasks\")\n",
    "print(\"Sample tasks:\")\n",
    "for i, path in enumerate(all_task_paths[:3]):\n",
    "    print(f\"  {i}: {path}\")"
   ]
  },
  {
   "cell_type": "markdown",
   "id": "openai-demo",
   "metadata": {},
   "source": [
    "## OpenAI Demo\n",
    "\n",
    "Using the universal runner with OpenAI GPT-4o."
   ]
  },
  {
   "cell_type": "code",
   "execution_count": 3,
   "id": "openai-single-task",
   "metadata": {},
   "outputs": [
    {
     "name": "stdout",
     "output_type": "stream",
     "text": [
      "Running task: test_specs/mid/mindset_decomposition_meta.json\n"
     ]
    },
    {
     "name": "stderr",
     "output_type": "stream",
     "text": [
      "Getting model responses: 100%|██████████| 30/30 [00:42<00:00,  1.41s/it]"
     ]
    },
    {
     "name": "stdout",
     "output_type": "stream",
     "text": [
      "\n",
      "Task completed!\n",
      "Task: mindset_decomposition\n",
      "Stage: mid\n",
      "Process: property_biases\n",
      "Number of trials: 30\n"
     ]
    },
    {
     "name": "stderr",
     "output_type": "stream",
     "text": [
      "\n"
     ]
    }
   ],
   "source": [
    "# Configure OpenAI model\n",
    "openai_config = ModelConfig(\n",
    "    model_name=\"gpt-4o\",\n",
    "    api_key=api_keys[\"open_ai\"],\n",
    "    max_tokens=100,\n",
    "    temperature=0.0\n",
    ")\n",
    "\n",
    "# Create runner using factory function\n",
    "runner = create_runner(\"openai\", openai_config)\n",
    "\n",
    "# Run a single task\n",
    "task_index = 12  # Same as original test.ipynb\n",
    "print(f\"Running task: {all_task_paths[task_index]}\")\n",
    "\n",
    "loader = TaskLoader(all_task_paths[task_index])\n",
    "task_info, results = runner.generate_response(loader)\n",
    "\n",
    "print(f\"\\nTask completed!\")\n",
    "print(f\"Task: {task_info['task']}\")\n",
    "print(f\"Stage: {task_info['stage']}\")\n",
    "print(f\"Process: {task_info['process']}\")\n",
    "print(f\"Number of trials: {len(results)}\")"
   ]
  },
  {
   "cell_type": "code",
   "execution_count": 4,
   "id": "evaluate-results",
   "metadata": {},
   "outputs": [
    {
     "name": "stdout",
     "output_type": "stream",
     "text": [
      "Evaluation Results:\n"
     ]
    },
    {
     "data": {
      "text/html": [
       "<div>\n",
       "<style scoped>\n",
       "    .dataframe tbody tr th:only-of-type {\n",
       "        vertical-align: middle;\n",
       "    }\n",
       "\n",
       "    .dataframe tbody tr th {\n",
       "        vertical-align: top;\n",
       "    }\n",
       "\n",
       "    .dataframe thead th {\n",
       "        text-align: right;\n",
       "    }\n",
       "</style>\n",
       "<table border=\"1\" class=\"dataframe\">\n",
       "  <thead>\n",
       "    <tr style=\"text-align: right;\">\n",
       "      <th></th>\n",
       "      <th>task</th>\n",
       "      <th>task_type</th>\n",
       "      <th>stage</th>\n",
       "      <th>process</th>\n",
       "      <th>num_trials</th>\n",
       "      <th>raw_score</th>\n",
       "      <th>percent_score</th>\n",
       "    </tr>\n",
       "  </thead>\n",
       "  <tbody>\n",
       "    <tr>\n",
       "      <th>0</th>\n",
       "      <td>mindset_decomposition</td>\n",
       "      <td>match_to_sample</td>\n",
       "      <td>mid</td>\n",
       "      <td>property_biases</td>\n",
       "      <td>30</td>\n",
       "      <td>27</td>\n",
       "      <td>0.9</td>\n",
       "    </tr>\n",
       "  </tbody>\n",
       "</table>\n",
       "</div>"
      ],
      "text/plain": [
       "                    task        task_type stage          process  num_trials  \\\n",
       "0  mindset_decomposition  match_to_sample   mid  property_biases          30   \n",
       "\n",
       "   raw_score  percent_score  \n",
       "0         27            0.9  "
      ]
     },
     "execution_count": 4,
     "metadata": {},
     "output_type": "execute_result"
    }
   ],
   "source": [
    "# Evaluate results\n",
    "evaluator = Evaluator()\n",
    "evaluator.evaluate((task_info, results))\n",
    "\n",
    "# Display results\n",
    "results_df = evaluator.get_result()\n",
    "print(\"Evaluation Results:\")\n",
    "results_df"
   ]
  },
  {
   "cell_type": "markdown",
   "id": "inspect-responses",
   "metadata": {},
   "source": [
    "## Inspect Individual Responses\n",
    "\n",
    "Let's look at some individual model responses to understand the task better."
   ]
  },
  {
   "cell_type": "code",
   "execution_count": 5,
   "id": "show-responses",
   "metadata": {},
   "outputs": [
    {
     "name": "stdout",
     "output_type": "stream",
     "text": [
      "Sample Model Responses:\n",
      "==================================================\n",
      "\n",
      "Trial trial_000:\n",
      "Prompt: Here's a task. I will present you with three pictures. The first one is the target/reference image. ...\n",
      "Model Response: I'm unable to choose which option resembles the target image.\n",
      "Correct Answer: 1\n",
      "------------------------------\n",
      "\n",
      "Trial trial_001:\n",
      "Prompt: Here's a task. I will present you with three pictures. The first one is the target/reference image. ...\n",
      "Model Response: The second option most closely resembles the target image.\n",
      "\n",
      "{2}\n",
      "Correct Answer: 2\n",
      "------------------------------\n",
      "\n",
      "Trial trial_002:\n",
      "Prompt: Here's a task. I will present you with three pictures. The first one is the target/reference image. ...\n",
      "Model Response: The second option most closely resembles the target image.\n",
      "\n",
      "{2}\n",
      "Correct Answer: 1\n",
      "------------------------------\n"
     ]
    }
   ],
   "source": [
    "# Show first few responses\n",
    "print(\"Sample Model Responses:\")\n",
    "print(\"=\" * 50)\n",
    "\n",
    "for i, trial in enumerate(results[:3]):\n",
    "    print(f\"\\nTrial {trial['trial_id']}:\")\n",
    "    print(f\"Prompt: {trial['prompt'][:100]}...\")\n",
    "    print(f\"Model Response: {trial['model_response']}\")\n",
    "    print(f\"Correct Answer: {trial['answer_key']}\")\n",
    "    print(\"-\" * 30)"
   ]
  },
  {
   "cell_type": "markdown",
   "id": "batch-demo",
   "metadata": {},
   "source": [
    "## Batch Processing Demo\n",
    "\n",
    "Run multiple tasks with the same configuration."
   ]
  },
  {
   "cell_type": "code",
   "execution_count": 6,
   "id": "batch-processing",
   "metadata": {},
   "outputs": [
    {
     "name": "stdout",
     "output_type": "stream",
     "text": [
      "\n",
      "Processing task 1/3: test_specs/low/borb_orientation_meta.json\n"
     ]
    },
    {
     "name": "stderr",
     "output_type": "stream",
     "text": [
      "Getting model responses: 100%|██████████| 30/30 [00:25<00:00,  1.16it/s]\n"
     ]
    },
    {
     "name": "stdout",
     "output_type": "stream",
     "text": [
      "✓ Completed: borb_orientation\n",
      "\n",
      "Processing task 2/3: test_specs/low/borb_line_length_comparison_meta.json\n"
     ]
    },
    {
     "name": "stderr",
     "output_type": "stream",
     "text": [
      "Getting model responses: 100%|██████████| 30/30 [00:26<00:00,  1.13it/s]\n"
     ]
    },
    {
     "name": "stdout",
     "output_type": "stream",
     "text": [
      "✓ Completed: borb_line_length_comparison\n",
      "\n",
      "Processing task 3/3: test_specs/low/borb_size_comparison_meta.json\n"
     ]
    },
    {
     "name": "stderr",
     "output_type": "stream",
     "text": [
      "Getting model responses: 100%|██████████| 30/30 [00:29<00:00,  1.02it/s]"
     ]
    },
    {
     "name": "stdout",
     "output_type": "stream",
     "text": [
      "✓ Completed: borb_size_comparison\n",
      "\n",
      "Batch processing completed!\n"
     ]
    },
    {
     "name": "stderr",
     "output_type": "stream",
     "text": [
      "\n"
     ]
    }
   ],
   "source": [
    "# Run multiple tasks (first 3 for demo)\n",
    "batch_evaluator = Evaluator()\n",
    "batch_results = []\n",
    "\n",
    "for i, task_path in enumerate(all_task_paths[:3]):\n",
    "    print(f\"\\nProcessing task {i+1}/3: {task_path}\")\n",
    "    \n",
    "    try:\n",
    "        loader = TaskLoader(task_path)\n",
    "        runner = create_runner(\"openai\", openai_config)\n",
    "        task_info, task_results = runner.generate_response(loader)\n",
    "        \n",
    "        # Evaluate\n",
    "        batch_evaluator.evaluate((task_info, task_results))\n",
    "        batch_results.append({\n",
    "            'task_path': task_path,\n",
    "            'task_info': task_info,\n",
    "            'status': 'success'\n",
    "        })\n",
    "        print(f\"✓ Completed: {task_info['task']}\")\n",
    "        \n",
    "    except Exception as e:\n",
    "        print(f\"✗ Failed: {e}\")\n",
    "        batch_results.append({\n",
    "            'task_path': task_path,\n",
    "            'status': 'failed',\n",
    "            'error': str(e)\n",
    "        })\n",
    "\n",
    "print(\"\\nBatch processing completed!\")"
   ]
  },
  {
   "cell_type": "code",
   "execution_count": null,
   "id": "batch-results",
   "metadata": {},
   "outputs": [],
   "source": [
    "# Show batch results\n",
    "batch_df = batch_evaluator.get_result()\n",
    "print(\"Batch Evaluation Results:\")\n",
    "batch_df"
   ]
  },
  {
   "cell_type": "markdown",
   "id": "config-comparison",
   "metadata": {},
   "source": [
    "## Configuration Comparison\n",
    "\n",
    "Compare different model configurations on the same task."
   ]
  },
  {
   "cell_type": "code",
   "execution_count": null,
   "id": "config-comparison-demo",
   "metadata": {},
   "outputs": [],
   "source": [
    "# Different configurations to compare\n",
    "configs = {\n",
    "    \"gpt-4o_temp0\": ModelConfig(\n",
    "        model_name=\"gpt-4o\",\n",
    "        api_key=api_keys[\"open_ai\"],\n",
    "        max_tokens=100,\n",
    "        temperature=0.0\n",
    "    ),\n",
    "    \"gpt-4o_temp0.3\": ModelConfig(\n",
    "        model_name=\"gpt-4o\",\n",
    "        api_key=api_keys[\"open_ai\"],\n",
    "        max_tokens=100,\n",
    "        temperature=0.3\n",
    "    ),\n",
    "    \"gpt-4o-mini\": ModelConfig(\n",
    "        model_name=\"gpt-4o-mini\",\n",
    "        api_key=api_keys[\"open_ai\"],\n",
    "        max_tokens=100,\n",
    "        temperature=0.0\n",
    "    )\n",
    "}\n",
    "\n",
    "# Run comparison on a single task\n",
    "comparison_task = all_task_paths[12]\n",
    "comparison_results = {}\n",
    "\n",
    "print(f\"Comparing configurations on: {comparison_task}\")\n",
    "print(\"=\" * 60)\n",
    "\n",
    "for config_name, config in configs.items():\n",
    "    print(f\"\\nRunning {config_name}...\")\n",
    "    \n",
    "    try:\n",
    "        loader = TaskLoader(comparison_task)\n",
    "        runner = create_runner(\"openai\", config)\n",
    "        task_info, task_results = runner.generate_response(loader)\n",
    "        \n",
    "        # Evaluate\n",
    "        temp_evaluator = Evaluator()\n",
    "        temp_evaluator.evaluate((task_info, task_results))\n",
    "        result_df = temp_evaluator.get_result()\n",
    "        \n",
    "        comparison_results[config_name] = {\n",
    "            'score': result_df['percent_score'].iloc[0],\n",
    "            'raw_score': result_df['raw_score'].iloc[0],\n",
    "            'num_trials': result_df['num_trials'].iloc[0],\n",
    "            'sample_responses': [r['model_response'] for r in task_results[:2]]\n",
    "        }\n",
    "        \n",
    "        print(f\"✓ Score: {result_df['percent_score'].iloc[0]:.2%}\")\n",
    "        \n",
    "    except Exception as e:\n",
    "        print(f\"✗ Failed: {e}\")\n",
    "        comparison_results[config_name] = {'error': str(e)}"
   ]
  },
  {
   "cell_type": "code",
   "execution_count": null,
   "id": "comparison-summary",
   "metadata": {},
   "outputs": [],
   "source": [
    "# Summary of comparison results\n",
    "print(\"Configuration Comparison Summary:\")\n",
    "print(\"=\" * 40)\n",
    "\n",
    "comparison_df = pd.DataFrame([\n",
    "    {\n",
    "        'Configuration': config_name,\n",
    "        'Score': results.get('score', 'Error'),\n",
    "        'Raw Score': f\"{results.get('raw_score', 'N/A')}/{results.get('num_trials', 'N/A')}\",\n",
    "        'Status': 'Success' if 'error' not in results else 'Failed'\n",
    "    }\n",
    "    for config_name, results in comparison_results.items()\n",
    "])\n",
    "\n",
    "comparison_df"
   ]
  },
  {
   "cell_type": "markdown",
   "id": "advanced-features",
   "metadata": {},
   "source": [
    "## Advanced Features\n",
    "\n",
    "Demonstrate advanced features of the universal runner."
   ]
  },
  {
   "cell_type": "code",
   "execution_count": null,
   "id": "custom-parameters",
   "metadata": {},
   "outputs": [],
   "source": [
    "# Using additional parameters\n",
    "advanced_config = ModelConfig(\n",
    "    model_name=\"gpt-4o\",\n",
    "    api_key=api_keys[\"open_ai\"],\n",
    "    max_tokens=150,\n",
    "    temperature=0.1,\n",
    "    additional_params={\n",
    "        \"top_p\": 0.9,\n",
    "        \"frequency_penalty\": 0.1,\n",
    "        \"presence_penalty\": 0.1\n",
    "    }\n",
    ")\n",
    "\n",
    "print(\"Running with advanced parameters:\")\n",
    "print(f\"- Temperature: {advanced_config.temperature}\")\n",
    "print(f\"- Max tokens: {advanced_config.max_tokens}\")\n",
    "print(f\"- Additional params: {advanced_config.additional_params}\")\n",
    "\n",
    "# Run with advanced config\n",
    "loader = TaskLoader(all_task_paths[12])\n",
    "advanced_runner = OpenAIModelRunner(advanced_config)\n",
    "task_info, advanced_results = advanced_runner.generate_response(loader)\n",
    "\n",
    "print(f\"\\nCompleted with {len(advanced_results)} trials\")\n",
    "print(\"Sample response:\")\n",
    "print(f\"\\\"{advanced_results[0]['model_response']}\\\"\")"
   ]
  },
  {
   "cell_type": "markdown",
   "id": "save-results",
   "metadata": {},
   "source": [
    "## Save Results\n",
    "\n",
    "Save evaluation results to CSV for further analysis."
   ]
  },
  {
   "cell_type": "code",
   "execution_count": null,
   "id": "save-csv",
   "metadata": {},
   "outputs": [],
   "source": [
    "# Save batch results\n",
    "if 'batch_evaluator' in locals():\n",
    "    batch_evaluator.save_as_csv(\"universal_runner_batch_results.csv\")\n",
    "    print(\"✓ Batch results saved to 'universal_runner_batch_results.csv'\")\n",
    "\n",
    "# Save comparison results\n",
    "if 'comparison_df' in locals():\n",
    "    comparison_df.to_csv(\"config_comparison_results.csv\", index=False)\n",
    "    print(\"✓ Comparison results saved to 'config_comparison_results.csv'\")\n",
    "\n",
    "print(\"\\nDemo completed successfully! 🎉\")"
   ]
  },
  {
   "cell_type": "markdown",
   "id": "next-steps",
   "metadata": {},
   "source": [
    "## Next Steps\n",
    "\n",
    "To extend this demo:\n",
    "\n",
    "1. **Try other providers**: Uncomment and configure Anthropic or Google runners\n",
    "2. **Multi-provider comparison**: Run the same task across different providers\n",
    "3. **Custom evaluation metrics**: Extend the evaluator for specific analysis\n",
    "4. **Batch processing**: Process all tasks in the test suite\n",
    "5. **Error handling**: Add robust error handling for production use\n",
    "\n",
    "### Example: Multi-provider comparison (requires additional API keys)\n",
    "\n",
    "```python\n",
    "# providers = {\n",
    "#     \"openai\": ModelConfig(model_name=\"gpt-4o\", api_key=api_keys[\"open_ai\"]),\n",
    "#     \"anthropic\": ModelConfig(model_name=\"claude-3-5-sonnet-20241022\", api_key=api_keys[\"anthropic\"]),\n",
    "#     \"google\": ModelConfig(model_name=\"gemini-1.5-pro\", api_key=api_keys[\"google\"])\n",
    "# }\n",
    "# \n",
    "# for provider_name, config in providers.items():\n",
    "#     runner = create_runner(provider_name, config)\n",
    "#     # ... run comparison\n",
    "```"
   ]
  }
 ],
 "metadata": {
  "kernelspec": {
   "display_name": "minibench",
   "language": "python",
   "name": "python3"
  },
  "language_info": {
   "codemirror_mode": {
    "name": "ipython",
    "version": 3
   },
   "file_extension": ".py",
   "mimetype": "text/x-python",
   "name": "python",
   "nbconvert_exporter": "python",
   "pygments_lexer": "ipython3",
   "version": "3.11.0"
  }
 },
 "nbformat": 4,
 "nbformat_minor": 5
}
