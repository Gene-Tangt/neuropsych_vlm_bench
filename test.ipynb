{
 "cells": [
  {
   "cell_type": "code",
   "execution_count": 3,
   "id": "8fd33051",
   "metadata": {},
   "outputs": [
    {
     "name": "stdout",
     "output_type": "stream",
     "text": [
      "The autoreload extension is already loaded. To reload it, use:\n",
      "  %reload_ext autoreload\n",
      "test_specs/mid/mindset_decomposition_meta.json\n"
     ]
    },
    {
     "name": "stderr",
     "output_type": "stream",
     "text": [
      "Getting model responses: 100%|██████████| 30/30 [00:44<00:00,  1.48s/it]\n"
     ]
    }
   ],
   "source": [
    "%load_ext autoreload\n",
    "%autoreload 2\n",
    "\n",
    "from evaluator import Evaluator\n",
    "import json \n",
    "from runner import OpenAIModelRunner\n",
    "from loaders import TaskLoader\n",
    "\n",
    "Paths = \"test_specs/test_list.json\"\n",
    "\n",
    "all_task_paths = []\n",
    "with open(Paths, 'r') as file:\n",
    "    for stage in json.load(file):\n",
    "        all_task_paths.extend(stage['task_paths'])\n",
    "\n",
    "\n",
    "with open(\"utils/api_keys.json\", \"r\") as f:\n",
    "    api = json.load(f)[\"open_ai\"]\n",
    "\n",
    "evaluator = Evaluator()\n",
    "\n",
    "for i in range(len(all_task_paths))[12:13]:\n",
    "    print(all_task_paths[i])\n",
    "    loader = TaskLoader(all_task_paths[i])\n",
    "    runner = OpenAIModelRunner(api_key=api, model_name=\"gpt-4o\")\n",
    "    data = runner.generate_response(loader)\n",
    "    evaluator.evaluate(data)\n",
    "    "
   ]
  },
  {
   "cell_type": "code",
   "execution_count": 5,
   "id": "4b0dcb70",
   "metadata": {},
   "outputs": [
    {
     "data": {
      "text/html": [
       "<div>\n",
       "<style scoped>\n",
       "    .dataframe tbody tr th:only-of-type {\n",
       "        vertical-align: middle;\n",
       "    }\n",
       "\n",
       "    .dataframe tbody tr th {\n",
       "        vertical-align: top;\n",
       "    }\n",
       "\n",
       "    .dataframe thead th {\n",
       "        text-align: right;\n",
       "    }\n",
       "</style>\n",
       "<table border=\"1\" class=\"dataframe\">\n",
       "  <thead>\n",
       "    <tr style=\"text-align: right;\">\n",
       "      <th></th>\n",
       "      <th>task</th>\n",
       "      <th>task_type</th>\n",
       "      <th>stage</th>\n",
       "      <th>process</th>\n",
       "      <th>num_trials</th>\n",
       "      <th>raw_score</th>\n",
       "      <th>percent_score</th>\n",
       "    </tr>\n",
       "  </thead>\n",
       "  <tbody>\n",
       "    <tr>\n",
       "      <th>0</th>\n",
       "      <td>mindset_decomposition</td>\n",
       "      <td>match_to_sample</td>\n",
       "      <td>mid</td>\n",
       "      <td>property_biases</td>\n",
       "      <td>30</td>\n",
       "      <td>27</td>\n",
       "      <td>0.9</td>\n",
       "    </tr>\n",
       "  </tbody>\n",
       "</table>\n",
       "</div>"
      ],
      "text/plain": [
       "                    task        task_type stage          process  num_trials  \\\n",
       "0  mindset_decomposition  match_to_sample   mid  property_biases          30   \n",
       "\n",
       "   raw_score  percent_score  \n",
       "0         27            0.9  "
      ]
     },
     "execution_count": 5,
     "metadata": {},
     "output_type": "execute_result"
    }
   ],
   "source": [
    "evaluator.get_result()"
   ]
  },
  {
   "cell_type": "code",
   "execution_count": null,
   "id": "b6577e40",
   "metadata": {},
   "outputs": [],
   "source": [
    "evaluator.save_as_csv(\"results.csv\")"
   ]
  },
  {
   "cell_type": "code",
   "execution_count": 22,
   "id": "a509e210",
   "metadata": {},
   "outputs": [
    {
     "name": "stdout",
     "output_type": "stream",
     "text": [
      "test_specs/mid/mindset_decomposition_meta.json\n"
     ]
    }
   ],
   "source": [
    "for i in range(len(all_task_paths))[12:13]:\n",
    "    print(all_task_paths[i])\n",
    "    loader = TaskLoader(all_task_paths[i])"
   ]
  },
  {
   "cell_type": "code",
   "execution_count": 23,
   "id": "a9b9cb45",
   "metadata": {},
   "outputs": [
    {
     "data": {
      "text/plain": [
       "<loaders.TaskLoader at 0x24fc6d8a910>"
      ]
     },
     "execution_count": 23,
     "metadata": {},
     "output_type": "execute_result"
    }
   ],
   "source": [
    "loader"
   ]
  }
 ],
 "metadata": {
  "kernelspec": {
   "display_name": "minibench",
   "language": "python",
   "name": "python3"
  },
  "language_info": {
   "codemirror_mode": {
    "name": "ipython",
    "version": 3
   },
   "file_extension": ".py",
   "mimetype": "text/x-python",
   "name": "python",
   "nbconvert_exporter": "python",
   "pygments_lexer": "ipython3",
   "version": "3.11.0"
  }
 },
 "nbformat": 4,
 "nbformat_minor": 5
}
